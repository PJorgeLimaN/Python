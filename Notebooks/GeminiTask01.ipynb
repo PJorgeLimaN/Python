{
 "cells": [
  {
   "cell_type": "markdown",
   "id": "4a1229df",
   "metadata": {},
   "source": [
    "# Tasks"
   ]
  },
  {
   "cell_type": "code",
   "execution_count": 1,
   "id": "51137cd5",
   "metadata": {},
   "outputs": [],
   "source": [
    "import random as rd"
   ]
  },
  {
   "cell_type": "markdown",
   "id": "975935b2",
   "metadata": {},
   "source": [
    "## Task 01\n",
    "- Write a Python function called count_numbers that takes an integer limit as an argument. \n",
    "- The function should use a for loop to print all the numbers from 1 up to and including the limit."
   ]
  },
  {
   "cell_type": "markdown",
   "id": "90389d45",
   "metadata": {},
   "source": [
    "### Function"
   ]
  },
  {
   "cell_type": "code",
   "execution_count": 8,
   "id": "90ce95b3",
   "metadata": {},
   "outputs": [],
   "source": [
    "def count_numbers(limit):\n",
    "    \"\"\"\n",
    "    Count the number of integers from 1 to limit\n",
    "    \"\"\"\n",
    "    count = 0\n",
    "    for i in range(1, limit + 1):\n",
    "        print(i)\n",
    "    "
   ]
  },
  {
   "cell_type": "markdown",
   "id": "71b2275d",
   "metadata": {},
   "source": [
    "### Code"
   ]
  },
  {
   "cell_type": "code",
   "execution_count": 10,
   "id": "745f9487",
   "metadata": {},
   "outputs": [
    {
     "name": "stdout",
     "output_type": "stream",
     "text": [
      "Enter a Number: \n",
      "1\n",
      "2\n",
      "3\n",
      "4\n",
      "5\n",
      "6\n",
      "7\n",
      "8\n",
      "9\n",
      "10\n",
      "11\n",
      "12\n",
      "13\n",
      "14\n",
      "15\n"
     ]
    }
   ],
   "source": [
    "limit = int(input(print('Enter a Number: ')))\n",
    "count_numbers(limit)\n"
   ]
  },
  {
   "cell_type": "markdown",
   "id": "c16d3fa8",
   "metadata": {},
   "source": [
    "## Task 02\n",
    "- Create a function named check_even_odd that accepts a list of numbers. \n",
    "- The function should iterate through the list, and for each number, it should print whether the number is even or odd. \n",
    "- Use an if statement to check the condition."
   ]
  },
  {
   "cell_type": "markdown",
   "id": "dbb71bfc",
   "metadata": {},
   "source": [
    "### Function"
   ]
  },
  {
   "cell_type": "code",
   "execution_count": 18,
   "id": "a5f0489f",
   "metadata": {},
   "outputs": [],
   "source": [
    "def check_even_odd(list):\n",
    "    \"\"\"\n",
    "    Check if the numbers in the list are even or odd\n",
    "    \"\"\"\n",
    "    for i in list:\n",
    "        if i % 2 == 0:\n",
    "            print(f\"{i} is even\")\n",
    "        else:\n",
    "            print(f\"{i} is odd\")\n",
    "\n",
    "def generate_random_numbers(n, limit):\n",
    "    \"\"\"\n",
    "    Generate a list of n random integers between 1 and limit\n",
    "    \"\"\"\n",
    "    return [rd.randint(1, limit) for _ in range(n)]\n",
    "\n",
    "def create_list(number):\n",
    "    numList = []\n",
    "    for i in range(1, number + 1):\n",
    "        numList.append(i) \n",
    "    return numList"
   ]
  },
  {
   "cell_type": "markdown",
   "id": "6a46d9ee",
   "metadata": {},
   "source": [
    "### Code"
   ]
  },
  {
   "cell_type": "code",
   "execution_count": 22,
   "id": "710cc120",
   "metadata": {},
   "outputs": [
    {
     "name": "stdout",
     "output_type": "stream",
     "text": [
      "Checking from randonly generated list:\n",
      "3 is odd\n",
      "1 is odd\n",
      "2 is even\n",
      "17 is odd\n",
      "6 is even\n",
      "8 is even\n",
      "16 is even\n",
      "2 is even\n",
      "\n",
      "Checking from linear list:\n",
      "1 is odd\n",
      "2 is even\n",
      "3 is odd\n",
      "4 is even\n",
      "5 is odd\n",
      "6 is even\n",
      "7 is odd\n",
      "8 is even\n",
      "9 is odd\n",
      "10 is even\n",
      "11 is odd\n",
      "12 is even\n",
      "13 is odd\n",
      "14 is even\n",
      "15 is odd\n"
     ]
    }
   ],
   "source": [
    "qnt, limit = map(int, input(\"Enter the quantity and limit separated by space: \").split())\n",
    "random_numbers = generate_random_numbers(qnt, limit)\n",
    "print(\"Checking from randonly generated list:\")\n",
    "check_even_odd(random_numbers)\n",
    "\n",
    "number = int(input(\"Enter the number of elements in the list: \"))\n",
    "numList = create_list(number)\n",
    "print(\"\\nChecking from linear list:\")\n",
    "check_even_odd(numList)"
   ]
  },
  {
   "cell_type": "markdown",
   "id": "40a0e647",
   "metadata": {},
   "source": [
    "## Task 03\n",
    "\n",
    "- Create a function called guess_the_number.\n",
    "- Inside the function, generate a random number between 1 and 100. You'll need to import the random module for this: import random and then random.randint(1, 100).\n",
    "- Use a while loop to repeatedly ask the user to guess the number.\n",
    "- Inside the loop, use if statements to check if the user's guess is too high, too low, or correct.\n",
    "- Provide feedback to the user after each guess.\n",
    "- The loop should continue until the user guesses the correct number."
   ]
  },
  {
   "cell_type": "markdown",
   "id": "1e7b839f",
   "metadata": {},
   "source": [
    "### Function"
   ]
  },
  {
   "cell_type": "code",
   "execution_count": 23,
   "id": "a1543916",
   "metadata": {},
   "outputs": [],
   "source": [
    "def guess_the_number():\n",
    "    \n",
    "    number_to_guess = rd.randint(1, 100)\n",
    "    attempts = 0\n",
    "    print(\"Guess a number between 1 and 100\")\n",
    "\n",
    "    while True:\n",
    "        guess = int(input(\"Enter your guess: \"))\n",
    "        attempts += 1\n",
    "        \n",
    "        if guess < number_to_guess:\n",
    "            print(\"Too low! Try again.\")\n",
    "        elif guess > number_to_guess:\n",
    "            print(\"Too high! Try again.\")\n",
    "        else:\n",
    "            print(f\"Congratulations! You've guessed the number {number_to_guess} in {attempts} attempts.\")\n",
    "            break"
   ]
  },
  {
   "cell_type": "markdown",
   "id": "4470b30d",
   "metadata": {},
   "source": [
    "### Running"
   ]
  },
  {
   "cell_type": "code",
   "execution_count": 25,
   "id": "29a4c53c",
   "metadata": {},
   "outputs": [
    {
     "name": "stdout",
     "output_type": "stream",
     "text": [
      "Guess a number between 1 and 100\n",
      "Too high! Try again.\n",
      "Too high! Try again.\n",
      "Too low! Try again.\n",
      "Too high! Try again.\n",
      "Too low! Try again.\n",
      "Too low! Try again.\n",
      "Congratulations! You've guessed the number 34 in 7 attempts.\n"
     ]
    }
   ],
   "source": [
    "guess_the_number()"
   ]
  }
 ],
 "metadata": {
  "kernelspec": {
   "display_name": ".venv",
   "language": "python",
   "name": "python3"
  },
  "language_info": {
   "codemirror_mode": {
    "name": "ipython",
    "version": 3
   },
   "file_extension": ".py",
   "mimetype": "text/x-python",
   "name": "python",
   "nbconvert_exporter": "python",
   "pygments_lexer": "ipython3",
   "version": "3.13.4"
  }
 },
 "nbformat": 4,
 "nbformat_minor": 5
}
